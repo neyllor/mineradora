{
 "cells": [
  {
   "cell_type": "markdown",
   "metadata": {},
   "source": [
    "\n",
    "\n",
    "Olá estudante!\n",
    "\n",
    "Me chamo Rafael Meirelles e irei revisar o seu projeto hoje e em eventuais futuras submissões até que ele cumpra todos os requisitos para o aceite.\n",
    "Conte comigo nessa jornada e não se preocupe se precisar ajustar alguns detalhes, é parte do processo e fundamental para que você exercite os conceitos que vem aprendendo e assim melhore a qualidade dos seus códigos e análises.\n",
    "\n",
    "**Peço que mantenha e não altereos comentários que eu fizer por aqui para que possamos nos localizar posteriormente, ok?**\n",
    "\n",
    "Mais uma coisa, vamos utilizar um código de cores para você entender os meus feedbacks no seu notebook. Funciona assim:\n",
    "\n",
    "\n",
    "<div class=\"alert alert-danger\">\n",
    "<strong>Vermelho</strong>\n",
    "\n",
    "Erro que precisa ser consertado, caso contrário, seu projeto não pode ser aceito\n",
    "\n",
    "</div>\n",
    "\n",
    "<div class=\"alert alert-warning\">\n",
    "<strong>Amarelo</strong>\n",
    "\n",
    "Alerta de um erro não crítco, mas que pode ser corrigido para melhoria geral no seu código/análise\n",
    "\n",
    "</div>\n",
    "\n",
    "<div class=\"alert alert-success\">\n",
    "<strong>Verde</strong>\n",
    "\n",
    "Elogios\n",
    "</div>\n",
    "\n",
    "<div class=\"alert alert-info\">\n",
    "<strong>Comentário do estudante</strong>\n",
    "\n",
    "Use uma caixa azul como essa para eventuais comentários que você gostaria de fazer para mim.\n",
    "</div>\n",
    "\n",
    "\n",
    "\n"
   ]
  },
  {
   "cell_type": "markdown",
   "metadata": {},
   "source": [
    "# Zyfra"
   ]
  },
  {
   "cell_type": "markdown",
   "metadata": {},
   "source": [
    "Este projeto tem como objetivo desenvolver um modelo que deve prever a quantidade de outo puro extraído do minério de ouro. Para que assim seja possível otimitar a produção e eliminar parâmetros não rentaveis."
   ]
  },
  {
   "cell_type": "markdown",
   "metadata": {},
   "source": [
    "<div class=\"alert alert-success\">\n",
    "<strong>Comentário do revisor v1</strong>\n",
    "\n",
    "Bom trabalho com a introdução\n",
    "</div>\n"
   ]
  },
  {
   "cell_type": "markdown",
   "metadata": {},
   "source": [
    "### Introdução"
   ]
  },
  {
   "cell_type": "markdown",
   "metadata": {},
   "source": [
    "#### bibliotecas"
   ]
  },
  {
   "cell_type": "code",
   "execution_count": 1,
   "metadata": {},
   "outputs": [],
   "source": [
    "import pandas as pd\n",
    "import numpy as np\n",
    "from sklearn.linear_model import LinearRegression\n",
    "from sklearn.ensemble import RandomForestClassifier"
   ]
  },
  {
   "cell_type": "markdown",
   "metadata": {},
   "source": [
    "#### Carregando arquivos"
   ]
  },
  {
   "cell_type": "code",
   "execution_count": 2,
   "metadata": {},
   "outputs": [],
   "source": [
    "gold_recovery_train = pd.read_csv('/datasets/gold_recovery_train.csv', index_col='date')\n",
    "gold_recovery_test = pd.read_csv('/datasets/gold_recovery_test.csv', index_col='date')\n",
    "gold_recovery_full = pd.read_csv('/datasets/gold_recovery_full.csv', index_col='date')"
   ]
  },
  {
   "cell_type": "code",
   "execution_count": 3,
   "metadata": {},
   "outputs": [
    {
     "name": "stdout",
     "output_type": "stream",
     "text": [
      "<class 'pandas.core.frame.DataFrame'>\n",
      "Index: 16860 entries, 2016-01-15 00:00:00 to 2018-08-18 10:59:59\n",
      "Data columns (total 86 columns):\n",
      " #   Column                                              Non-Null Count  Dtype  \n",
      "---  ------                                              --------------  -----  \n",
      " 0   final.output.concentrate_ag                         16788 non-null  float64\n",
      " 1   final.output.concentrate_pb                         16788 non-null  float64\n",
      " 2   final.output.concentrate_sol                        16490 non-null  float64\n",
      " 3   final.output.concentrate_au                         16789 non-null  float64\n",
      " 4   final.output.recovery                               15339 non-null  float64\n",
      " 5   final.output.tail_ag                                16794 non-null  float64\n",
      " 6   final.output.tail_pb                                16677 non-null  float64\n",
      " 7   final.output.tail_sol                               16715 non-null  float64\n",
      " 8   final.output.tail_au                                16794 non-null  float64\n",
      " 9   primary_cleaner.input.sulfate                       15553 non-null  float64\n",
      " 10  primary_cleaner.input.depressant                    15598 non-null  float64\n",
      " 11  primary_cleaner.input.feed_size                     16860 non-null  float64\n",
      " 12  primary_cleaner.input.xanthate                      15875 non-null  float64\n",
      " 13  primary_cleaner.output.concentrate_ag               16778 non-null  float64\n",
      " 14  primary_cleaner.output.concentrate_pb               16502 non-null  float64\n",
      " 15  primary_cleaner.output.concentrate_sol              16224 non-null  float64\n",
      " 16  primary_cleaner.output.concentrate_au               16778 non-null  float64\n",
      " 17  primary_cleaner.output.tail_ag                      16777 non-null  float64\n",
      " 18  primary_cleaner.output.tail_pb                      16761 non-null  float64\n",
      " 19  primary_cleaner.output.tail_sol                     16579 non-null  float64\n",
      " 20  primary_cleaner.output.tail_au                      16777 non-null  float64\n",
      " 21  primary_cleaner.state.floatbank8_a_air              16820 non-null  float64\n",
      " 22  primary_cleaner.state.floatbank8_a_level            16827 non-null  float64\n",
      " 23  primary_cleaner.state.floatbank8_b_air              16820 non-null  float64\n",
      " 24  primary_cleaner.state.floatbank8_b_level            16833 non-null  float64\n",
      " 25  primary_cleaner.state.floatbank8_c_air              16822 non-null  float64\n",
      " 26  primary_cleaner.state.floatbank8_c_level            16833 non-null  float64\n",
      " 27  primary_cleaner.state.floatbank8_d_air              16821 non-null  float64\n",
      " 28  primary_cleaner.state.floatbank8_d_level            16833 non-null  float64\n",
      " 29  rougher.calculation.sulfate_to_au_concentrate       16833 non-null  float64\n",
      " 30  rougher.calculation.floatbank10_sulfate_to_au_feed  16833 non-null  float64\n",
      " 31  rougher.calculation.floatbank11_sulfate_to_au_feed  16833 non-null  float64\n",
      " 32  rougher.calculation.au_pb_ratio                     15618 non-null  float64\n",
      " 33  rougher.input.feed_ag                               16778 non-null  float64\n",
      " 34  rougher.input.feed_pb                               16632 non-null  float64\n",
      " 35  rougher.input.feed_rate                             16347 non-null  float64\n",
      " 36  rougher.input.feed_size                             16443 non-null  float64\n",
      " 37  rougher.input.feed_sol                              16568 non-null  float64\n",
      " 38  rougher.input.feed_au                               16777 non-null  float64\n",
      " 39  rougher.input.floatbank10_sulfate                   15816 non-null  float64\n",
      " 40  rougher.input.floatbank10_xanthate                  16514 non-null  float64\n",
      " 41  rougher.input.floatbank11_sulfate                   16237 non-null  float64\n",
      " 42  rougher.input.floatbank11_xanthate                  14956 non-null  float64\n",
      " 43  rougher.output.concentrate_ag                       16778 non-null  float64\n",
      " 44  rougher.output.concentrate_pb                       16778 non-null  float64\n",
      " 45  rougher.output.concentrate_sol                      16698 non-null  float64\n",
      " 46  rougher.output.concentrate_au                       16778 non-null  float64\n",
      " 47  rougher.output.recovery                             14287 non-null  float64\n",
      " 48  rougher.output.tail_ag                              14610 non-null  float64\n",
      " 49  rougher.output.tail_pb                              16778 non-null  float64\n",
      " 50  rougher.output.tail_sol                             14611 non-null  float64\n",
      " 51  rougher.output.tail_au                              14611 non-null  float64\n",
      " 52  rougher.state.floatbank10_a_air                     16807 non-null  float64\n",
      " 53  rougher.state.floatbank10_a_level                   16807 non-null  float64\n",
      " 54  rougher.state.floatbank10_b_air                     16807 non-null  float64\n",
      " 55  rougher.state.floatbank10_b_level                   16807 non-null  float64\n",
      " 56  rougher.state.floatbank10_c_air                     16807 non-null  float64\n",
      " 57  rougher.state.floatbank10_c_level                   16814 non-null  float64\n",
      " 58  rougher.state.floatbank10_d_air                     16802 non-null  float64\n",
      " 59  rougher.state.floatbank10_d_level                   16809 non-null  float64\n",
      " 60  rougher.state.floatbank10_e_air                     16257 non-null  float64\n",
      " 61  rougher.state.floatbank10_e_level                   16809 non-null  float64\n",
      " 62  rougher.state.floatbank10_f_air                     16802 non-null  float64\n",
      " 63  rougher.state.floatbank10_f_level                   16802 non-null  float64\n",
      " 64  secondary_cleaner.output.tail_ag                    16776 non-null  float64\n",
      " 65  secondary_cleaner.output.tail_pb                    16764 non-null  float64\n",
      " 66  secondary_cleaner.output.tail_sol                   14874 non-null  float64\n",
      " 67  secondary_cleaner.output.tail_au                    16778 non-null  float64\n",
      " 68  secondary_cleaner.state.floatbank2_a_air            16497 non-null  float64\n",
      " 69  secondary_cleaner.state.floatbank2_a_level          16751 non-null  float64\n",
      " 70  secondary_cleaner.state.floatbank2_b_air            16705 non-null  float64\n",
      " 71  secondary_cleaner.state.floatbank2_b_level          16748 non-null  float64\n",
      " 72  secondary_cleaner.state.floatbank3_a_air            16763 non-null  float64\n",
      " 73  secondary_cleaner.state.floatbank3_a_level          16747 non-null  float64\n",
      " 74  secondary_cleaner.state.floatbank3_b_air            16752 non-null  float64\n",
      " 75  secondary_cleaner.state.floatbank3_b_level          16750 non-null  float64\n",
      " 76  secondary_cleaner.state.floatbank4_a_air            16731 non-null  float64\n",
      " 77  secondary_cleaner.state.floatbank4_a_level          16747 non-null  float64\n",
      " 78  secondary_cleaner.state.floatbank4_b_air            16768 non-null  float64\n",
      " 79  secondary_cleaner.state.floatbank4_b_level          16767 non-null  float64\n",
      " 80  secondary_cleaner.state.floatbank5_a_air            16775 non-null  float64\n",
      " 81  secondary_cleaner.state.floatbank5_a_level          16775 non-null  float64\n",
      " 82  secondary_cleaner.state.floatbank5_b_air            16775 non-null  float64\n",
      " 83  secondary_cleaner.state.floatbank5_b_level          16776 non-null  float64\n",
      " 84  secondary_cleaner.state.floatbank6_a_air            16757 non-null  float64\n",
      " 85  secondary_cleaner.state.floatbank6_a_level          16775 non-null  float64\n",
      "dtypes: float64(86)\n",
      "memory usage: 11.2+ MB\n"
     ]
    }
   ],
   "source": [
    "gold_recovery_train.info()"
   ]
  },
  {
   "cell_type": "code",
   "execution_count": 4,
   "metadata": {},
   "outputs": [
    {
     "name": "stdout",
     "output_type": "stream",
     "text": [
      "<class 'pandas.core.frame.DataFrame'>\n",
      "Index: 5856 entries, 2016-09-01 00:59:59 to 2017-12-31 23:59:59\n",
      "Data columns (total 52 columns):\n",
      " #   Column                                      Non-Null Count  Dtype  \n",
      "---  ------                                      --------------  -----  \n",
      " 0   primary_cleaner.input.sulfate               5554 non-null   float64\n",
      " 1   primary_cleaner.input.depressant            5572 non-null   float64\n",
      " 2   primary_cleaner.input.feed_size             5856 non-null   float64\n",
      " 3   primary_cleaner.input.xanthate              5690 non-null   float64\n",
      " 4   primary_cleaner.state.floatbank8_a_air      5840 non-null   float64\n",
      " 5   primary_cleaner.state.floatbank8_a_level    5840 non-null   float64\n",
      " 6   primary_cleaner.state.floatbank8_b_air      5840 non-null   float64\n",
      " 7   primary_cleaner.state.floatbank8_b_level    5840 non-null   float64\n",
      " 8   primary_cleaner.state.floatbank8_c_air      5840 non-null   float64\n",
      " 9   primary_cleaner.state.floatbank8_c_level    5840 non-null   float64\n",
      " 10  primary_cleaner.state.floatbank8_d_air      5840 non-null   float64\n",
      " 11  primary_cleaner.state.floatbank8_d_level    5840 non-null   float64\n",
      " 12  rougher.input.feed_ag                       5840 non-null   float64\n",
      " 13  rougher.input.feed_pb                       5840 non-null   float64\n",
      " 14  rougher.input.feed_rate                     5816 non-null   float64\n",
      " 15  rougher.input.feed_size                     5834 non-null   float64\n",
      " 16  rougher.input.feed_sol                      5789 non-null   float64\n",
      " 17  rougher.input.feed_au                       5840 non-null   float64\n",
      " 18  rougher.input.floatbank10_sulfate           5599 non-null   float64\n",
      " 19  rougher.input.floatbank10_xanthate          5733 non-null   float64\n",
      " 20  rougher.input.floatbank11_sulfate           5801 non-null   float64\n",
      " 21  rougher.input.floatbank11_xanthate          5503 non-null   float64\n",
      " 22  rougher.state.floatbank10_a_air             5839 non-null   float64\n",
      " 23  rougher.state.floatbank10_a_level           5840 non-null   float64\n",
      " 24  rougher.state.floatbank10_b_air             5839 non-null   float64\n",
      " 25  rougher.state.floatbank10_b_level           5840 non-null   float64\n",
      " 26  rougher.state.floatbank10_c_air             5839 non-null   float64\n",
      " 27  rougher.state.floatbank10_c_level           5840 non-null   float64\n",
      " 28  rougher.state.floatbank10_d_air             5839 non-null   float64\n",
      " 29  rougher.state.floatbank10_d_level           5840 non-null   float64\n",
      " 30  rougher.state.floatbank10_e_air             5839 non-null   float64\n",
      " 31  rougher.state.floatbank10_e_level           5840 non-null   float64\n",
      " 32  rougher.state.floatbank10_f_air             5839 non-null   float64\n",
      " 33  rougher.state.floatbank10_f_level           5840 non-null   float64\n",
      " 34  secondary_cleaner.state.floatbank2_a_air    5836 non-null   float64\n",
      " 35  secondary_cleaner.state.floatbank2_a_level  5840 non-null   float64\n",
      " 36  secondary_cleaner.state.floatbank2_b_air    5833 non-null   float64\n",
      " 37  secondary_cleaner.state.floatbank2_b_level  5840 non-null   float64\n",
      " 38  secondary_cleaner.state.floatbank3_a_air    5822 non-null   float64\n",
      " 39  secondary_cleaner.state.floatbank3_a_level  5840 non-null   float64\n",
      " 40  secondary_cleaner.state.floatbank3_b_air    5840 non-null   float64\n",
      " 41  secondary_cleaner.state.floatbank3_b_level  5840 non-null   float64\n",
      " 42  secondary_cleaner.state.floatbank4_a_air    5840 non-null   float64\n",
      " 43  secondary_cleaner.state.floatbank4_a_level  5840 non-null   float64\n",
      " 44  secondary_cleaner.state.floatbank4_b_air    5840 non-null   float64\n",
      " 45  secondary_cleaner.state.floatbank4_b_level  5840 non-null   float64\n",
      " 46  secondary_cleaner.state.floatbank5_a_air    5840 non-null   float64\n",
      " 47  secondary_cleaner.state.floatbank5_a_level  5840 non-null   float64\n",
      " 48  secondary_cleaner.state.floatbank5_b_air    5840 non-null   float64\n",
      " 49  secondary_cleaner.state.floatbank5_b_level  5840 non-null   float64\n",
      " 50  secondary_cleaner.state.floatbank6_a_air    5840 non-null   float64\n",
      " 51  secondary_cleaner.state.floatbank6_a_level  5840 non-null   float64\n",
      "dtypes: float64(52)\n",
      "memory usage: 2.4+ MB\n"
     ]
    }
   ],
   "source": [
    "gold_recovery_test.info()"
   ]
  },
  {
   "cell_type": "code",
   "execution_count": 5,
   "metadata": {},
   "outputs": [
    {
     "name": "stdout",
     "output_type": "stream",
     "text": [
      "<class 'pandas.core.frame.DataFrame'>\n",
      "Index: 22716 entries, 2016-01-15 00:00:00 to 2018-08-18 10:59:59\n",
      "Data columns (total 86 columns):\n",
      " #   Column                                              Non-Null Count  Dtype  \n",
      "---  ------                                              --------------  -----  \n",
      " 0   final.output.concentrate_ag                         22627 non-null  float64\n",
      " 1   final.output.concentrate_pb                         22629 non-null  float64\n",
      " 2   final.output.concentrate_sol                        22331 non-null  float64\n",
      " 3   final.output.concentrate_au                         22630 non-null  float64\n",
      " 4   final.output.recovery                               20753 non-null  float64\n",
      " 5   final.output.tail_ag                                22633 non-null  float64\n",
      " 6   final.output.tail_pb                                22516 non-null  float64\n",
      " 7   final.output.tail_sol                               22445 non-null  float64\n",
      " 8   final.output.tail_au                                22635 non-null  float64\n",
      " 9   primary_cleaner.input.sulfate                       21107 non-null  float64\n",
      " 10  primary_cleaner.input.depressant                    21170 non-null  float64\n",
      " 11  primary_cleaner.input.feed_size                     22716 non-null  float64\n",
      " 12  primary_cleaner.input.xanthate                      21565 non-null  float64\n",
      " 13  primary_cleaner.output.concentrate_ag               22618 non-null  float64\n",
      " 14  primary_cleaner.output.concentrate_pb               22268 non-null  float64\n",
      " 15  primary_cleaner.output.concentrate_sol              21918 non-null  float64\n",
      " 16  primary_cleaner.output.concentrate_au               22618 non-null  float64\n",
      " 17  primary_cleaner.output.tail_ag                      22614 non-null  float64\n",
      " 18  primary_cleaner.output.tail_pb                      22594 non-null  float64\n",
      " 19  primary_cleaner.output.tail_sol                     22365 non-null  float64\n",
      " 20  primary_cleaner.output.tail_au                      22617 non-null  float64\n",
      " 21  primary_cleaner.state.floatbank8_a_air              22660 non-null  float64\n",
      " 22  primary_cleaner.state.floatbank8_a_level            22667 non-null  float64\n",
      " 23  primary_cleaner.state.floatbank8_b_air              22660 non-null  float64\n",
      " 24  primary_cleaner.state.floatbank8_b_level            22673 non-null  float64\n",
      " 25  primary_cleaner.state.floatbank8_c_air              22662 non-null  float64\n",
      " 26  primary_cleaner.state.floatbank8_c_level            22673 non-null  float64\n",
      " 27  primary_cleaner.state.floatbank8_d_air              22661 non-null  float64\n",
      " 28  primary_cleaner.state.floatbank8_d_level            22673 non-null  float64\n",
      " 29  rougher.calculation.sulfate_to_au_concentrate       22672 non-null  float64\n",
      " 30  rougher.calculation.floatbank10_sulfate_to_au_feed  22672 non-null  float64\n",
      " 31  rougher.calculation.floatbank11_sulfate_to_au_feed  22672 non-null  float64\n",
      " 32  rougher.calculation.au_pb_ratio                     21089 non-null  float64\n",
      " 33  rougher.input.feed_ag                               22618 non-null  float64\n",
      " 34  rougher.input.feed_pb                               22472 non-null  float64\n",
      " 35  rougher.input.feed_rate                             22163 non-null  float64\n",
      " 36  rougher.input.feed_size                             22277 non-null  float64\n",
      " 37  rougher.input.feed_sol                              22357 non-null  float64\n",
      " 38  rougher.input.feed_au                               22617 non-null  float64\n",
      " 39  rougher.input.floatbank10_sulfate                   21415 non-null  float64\n",
      " 40  rougher.input.floatbank10_xanthate                  22247 non-null  float64\n",
      " 41  rougher.input.floatbank11_sulfate                   22038 non-null  float64\n",
      " 42  rougher.input.floatbank11_xanthate                  20459 non-null  float64\n",
      " 43  rougher.output.concentrate_ag                       22618 non-null  float64\n",
      " 44  rougher.output.concentrate_pb                       22618 non-null  float64\n",
      " 45  rougher.output.concentrate_sol                      22526 non-null  float64\n",
      " 46  rougher.output.concentrate_au                       22618 non-null  float64\n",
      " 47  rougher.output.recovery                             19597 non-null  float64\n",
      " 48  rougher.output.tail_ag                              19979 non-null  float64\n",
      " 49  rougher.output.tail_pb                              22618 non-null  float64\n",
      " 50  rougher.output.tail_sol                             19980 non-null  float64\n",
      " 51  rougher.output.tail_au                              19980 non-null  float64\n",
      " 52  rougher.state.floatbank10_a_air                     22646 non-null  float64\n",
      " 53  rougher.state.floatbank10_a_level                   22647 non-null  float64\n",
      " 54  rougher.state.floatbank10_b_air                     22646 non-null  float64\n",
      " 55  rougher.state.floatbank10_b_level                   22647 non-null  float64\n",
      " 56  rougher.state.floatbank10_c_air                     22646 non-null  float64\n",
      " 57  rougher.state.floatbank10_c_level                   22654 non-null  float64\n",
      " 58  rougher.state.floatbank10_d_air                     22641 non-null  float64\n",
      " 59  rougher.state.floatbank10_d_level                   22649 non-null  float64\n",
      " 60  rougher.state.floatbank10_e_air                     22096 non-null  float64\n",
      " 61  rougher.state.floatbank10_e_level                   22649 non-null  float64\n",
      " 62  rougher.state.floatbank10_f_air                     22641 non-null  float64\n",
      " 63  rougher.state.floatbank10_f_level                   22642 non-null  float64\n",
      " 64  secondary_cleaner.output.tail_ag                    22616 non-null  float64\n",
      " 65  secondary_cleaner.output.tail_pb                    22600 non-null  float64\n",
      " 66  secondary_cleaner.output.tail_sol                   20501 non-null  float64\n",
      " 67  secondary_cleaner.output.tail_au                    22618 non-null  float64\n",
      " 68  secondary_cleaner.state.floatbank2_a_air            22333 non-null  float64\n",
      " 69  secondary_cleaner.state.floatbank2_a_level          22591 non-null  float64\n",
      " 70  secondary_cleaner.state.floatbank2_b_air            22538 non-null  float64\n",
      " 71  secondary_cleaner.state.floatbank2_b_level          22588 non-null  float64\n",
      " 72  secondary_cleaner.state.floatbank3_a_air            22585 non-null  float64\n",
      " 73  secondary_cleaner.state.floatbank3_a_level          22587 non-null  float64\n",
      " 74  secondary_cleaner.state.floatbank3_b_air            22592 non-null  float64\n",
      " 75  secondary_cleaner.state.floatbank3_b_level          22590 non-null  float64\n",
      " 76  secondary_cleaner.state.floatbank4_a_air            22571 non-null  float64\n",
      " 77  secondary_cleaner.state.floatbank4_a_level          22587 non-null  float64\n",
      " 78  secondary_cleaner.state.floatbank4_b_air            22608 non-null  float64\n",
      " 79  secondary_cleaner.state.floatbank4_b_level          22607 non-null  float64\n",
      " 80  secondary_cleaner.state.floatbank5_a_air            22615 non-null  float64\n",
      " 81  secondary_cleaner.state.floatbank5_a_level          22615 non-null  float64\n",
      " 82  secondary_cleaner.state.floatbank5_b_air            22615 non-null  float64\n",
      " 83  secondary_cleaner.state.floatbank5_b_level          22616 non-null  float64\n",
      " 84  secondary_cleaner.state.floatbank6_a_air            22597 non-null  float64\n",
      " 85  secondary_cleaner.state.floatbank6_a_level          22615 non-null  float64\n",
      "dtypes: float64(86)\n",
      "memory usage: 15.1+ MB\n"
     ]
    }
   ],
   "source": [
    "gold_recovery_full.info()"
   ]
  },
  {
   "cell_type": "code",
   "execution_count": 6,
   "metadata": {},
   "outputs": [
    {
     "data": {
      "text/html": [
       "<div>\n",
       "<style scoped>\n",
       "    .dataframe tbody tr th:only-of-type {\n",
       "        vertical-align: middle;\n",
       "    }\n",
       "\n",
       "    .dataframe tbody tr th {\n",
       "        vertical-align: top;\n",
       "    }\n",
       "\n",
       "    .dataframe thead th {\n",
       "        text-align: right;\n",
       "    }\n",
       "</style>\n",
       "<table border=\"1\" class=\"dataframe\">\n",
       "  <thead>\n",
       "    <tr style=\"text-align: right;\">\n",
       "      <th></th>\n",
       "      <th>final.output.concentrate_ag</th>\n",
       "      <th>final.output.concentrate_pb</th>\n",
       "      <th>final.output.concentrate_sol</th>\n",
       "      <th>final.output.concentrate_au</th>\n",
       "      <th>final.output.recovery</th>\n",
       "      <th>final.output.tail_ag</th>\n",
       "      <th>final.output.tail_pb</th>\n",
       "      <th>final.output.tail_sol</th>\n",
       "      <th>final.output.tail_au</th>\n",
       "      <th>primary_cleaner.input.sulfate</th>\n",
       "      <th>...</th>\n",
       "      <th>secondary_cleaner.state.floatbank4_a_air</th>\n",
       "      <th>secondary_cleaner.state.floatbank4_a_level</th>\n",
       "      <th>secondary_cleaner.state.floatbank4_b_air</th>\n",
       "      <th>secondary_cleaner.state.floatbank4_b_level</th>\n",
       "      <th>secondary_cleaner.state.floatbank5_a_air</th>\n",
       "      <th>secondary_cleaner.state.floatbank5_a_level</th>\n",
       "      <th>secondary_cleaner.state.floatbank5_b_air</th>\n",
       "      <th>secondary_cleaner.state.floatbank5_b_level</th>\n",
       "      <th>secondary_cleaner.state.floatbank6_a_air</th>\n",
       "      <th>secondary_cleaner.state.floatbank6_a_level</th>\n",
       "    </tr>\n",
       "    <tr>\n",
       "      <th>date</th>\n",
       "      <th></th>\n",
       "      <th></th>\n",
       "      <th></th>\n",
       "      <th></th>\n",
       "      <th></th>\n",
       "      <th></th>\n",
       "      <th></th>\n",
       "      <th></th>\n",
       "      <th></th>\n",
       "      <th></th>\n",
       "      <th></th>\n",
       "      <th></th>\n",
       "      <th></th>\n",
       "      <th></th>\n",
       "      <th></th>\n",
       "      <th></th>\n",
       "      <th></th>\n",
       "      <th></th>\n",
       "      <th></th>\n",
       "      <th></th>\n",
       "      <th></th>\n",
       "    </tr>\n",
       "  </thead>\n",
       "  <tbody>\n",
       "    <tr>\n",
       "      <th>2016-01-15 00:00:00</th>\n",
       "      <td>6.055403</td>\n",
       "      <td>9.889648</td>\n",
       "      <td>5.507324</td>\n",
       "      <td>42.192020</td>\n",
       "      <td>70.541216</td>\n",
       "      <td>10.411962</td>\n",
       "      <td>0.895447</td>\n",
       "      <td>16.904297</td>\n",
       "      <td>2.143149</td>\n",
       "      <td>127.092003</td>\n",
       "      <td>...</td>\n",
       "      <td>14.016835</td>\n",
       "      <td>-502.488007</td>\n",
       "      <td>12.099931</td>\n",
       "      <td>-504.715942</td>\n",
       "      <td>9.925633</td>\n",
       "      <td>-498.310211</td>\n",
       "      <td>8.079666</td>\n",
       "      <td>-500.470978</td>\n",
       "      <td>14.151341</td>\n",
       "      <td>-605.841980</td>\n",
       "    </tr>\n",
       "    <tr>\n",
       "      <th>2016-01-15 01:00:00</th>\n",
       "      <td>6.029369</td>\n",
       "      <td>9.968944</td>\n",
       "      <td>5.257781</td>\n",
       "      <td>42.701629</td>\n",
       "      <td>69.266198</td>\n",
       "      <td>10.462676</td>\n",
       "      <td>0.927452</td>\n",
       "      <td>16.634514</td>\n",
       "      <td>2.224930</td>\n",
       "      <td>125.629232</td>\n",
       "      <td>...</td>\n",
       "      <td>13.992281</td>\n",
       "      <td>-505.503262</td>\n",
       "      <td>11.950531</td>\n",
       "      <td>-501.331529</td>\n",
       "      <td>10.039245</td>\n",
       "      <td>-500.169983</td>\n",
       "      <td>7.984757</td>\n",
       "      <td>-500.582168</td>\n",
       "      <td>13.998353</td>\n",
       "      <td>-599.787184</td>\n",
       "    </tr>\n",
       "    <tr>\n",
       "      <th>2016-01-15 02:00:00</th>\n",
       "      <td>6.055926</td>\n",
       "      <td>10.213995</td>\n",
       "      <td>5.383759</td>\n",
       "      <td>42.657501</td>\n",
       "      <td>68.116445</td>\n",
       "      <td>10.507046</td>\n",
       "      <td>0.953716</td>\n",
       "      <td>16.208849</td>\n",
       "      <td>2.257889</td>\n",
       "      <td>123.819808</td>\n",
       "      <td>...</td>\n",
       "      <td>14.015015</td>\n",
       "      <td>-502.520901</td>\n",
       "      <td>11.912783</td>\n",
       "      <td>-501.133383</td>\n",
       "      <td>10.070913</td>\n",
       "      <td>-500.129135</td>\n",
       "      <td>8.013877</td>\n",
       "      <td>-500.517572</td>\n",
       "      <td>14.028663</td>\n",
       "      <td>-601.427363</td>\n",
       "    </tr>\n",
       "    <tr>\n",
       "      <th>2016-01-15 03:00:00</th>\n",
       "      <td>6.047977</td>\n",
       "      <td>9.977019</td>\n",
       "      <td>4.858634</td>\n",
       "      <td>42.689819</td>\n",
       "      <td>68.347543</td>\n",
       "      <td>10.422762</td>\n",
       "      <td>0.883763</td>\n",
       "      <td>16.532835</td>\n",
       "      <td>2.146849</td>\n",
       "      <td>122.270188</td>\n",
       "      <td>...</td>\n",
       "      <td>14.036510</td>\n",
       "      <td>-500.857308</td>\n",
       "      <td>11.999550</td>\n",
       "      <td>-501.193686</td>\n",
       "      <td>9.970366</td>\n",
       "      <td>-499.201640</td>\n",
       "      <td>7.977324</td>\n",
       "      <td>-500.255908</td>\n",
       "      <td>14.005551</td>\n",
       "      <td>-599.996129</td>\n",
       "    </tr>\n",
       "    <tr>\n",
       "      <th>2016-01-15 04:00:00</th>\n",
       "      <td>6.148599</td>\n",
       "      <td>10.142511</td>\n",
       "      <td>4.939416</td>\n",
       "      <td>42.774141</td>\n",
       "      <td>66.927016</td>\n",
       "      <td>10.360302</td>\n",
       "      <td>0.792826</td>\n",
       "      <td>16.525686</td>\n",
       "      <td>2.055292</td>\n",
       "      <td>117.988169</td>\n",
       "      <td>...</td>\n",
       "      <td>14.027298</td>\n",
       "      <td>-499.838632</td>\n",
       "      <td>11.953070</td>\n",
       "      <td>-501.053894</td>\n",
       "      <td>9.925709</td>\n",
       "      <td>-501.686727</td>\n",
       "      <td>7.894242</td>\n",
       "      <td>-500.356035</td>\n",
       "      <td>13.996647</td>\n",
       "      <td>-601.496691</td>\n",
       "    </tr>\n",
       "  </tbody>\n",
       "</table>\n",
       "<p>5 rows × 86 columns</p>\n",
       "</div>"
      ],
      "text/plain": [
       "                     final.output.concentrate_ag  final.output.concentrate_pb  \\\n",
       "date                                                                            \n",
       "2016-01-15 00:00:00                     6.055403                     9.889648   \n",
       "2016-01-15 01:00:00                     6.029369                     9.968944   \n",
       "2016-01-15 02:00:00                     6.055926                    10.213995   \n",
       "2016-01-15 03:00:00                     6.047977                     9.977019   \n",
       "2016-01-15 04:00:00                     6.148599                    10.142511   \n",
       "\n",
       "                     final.output.concentrate_sol  \\\n",
       "date                                                \n",
       "2016-01-15 00:00:00                      5.507324   \n",
       "2016-01-15 01:00:00                      5.257781   \n",
       "2016-01-15 02:00:00                      5.383759   \n",
       "2016-01-15 03:00:00                      4.858634   \n",
       "2016-01-15 04:00:00                      4.939416   \n",
       "\n",
       "                     final.output.concentrate_au  final.output.recovery  \\\n",
       "date                                                                      \n",
       "2016-01-15 00:00:00                    42.192020              70.541216   \n",
       "2016-01-15 01:00:00                    42.701629              69.266198   \n",
       "2016-01-15 02:00:00                    42.657501              68.116445   \n",
       "2016-01-15 03:00:00                    42.689819              68.347543   \n",
       "2016-01-15 04:00:00                    42.774141              66.927016   \n",
       "\n",
       "                     final.output.tail_ag  final.output.tail_pb  \\\n",
       "date                                                              \n",
       "2016-01-15 00:00:00             10.411962              0.895447   \n",
       "2016-01-15 01:00:00             10.462676              0.927452   \n",
       "2016-01-15 02:00:00             10.507046              0.953716   \n",
       "2016-01-15 03:00:00             10.422762              0.883763   \n",
       "2016-01-15 04:00:00             10.360302              0.792826   \n",
       "\n",
       "                     final.output.tail_sol  final.output.tail_au  \\\n",
       "date                                                               \n",
       "2016-01-15 00:00:00              16.904297              2.143149   \n",
       "2016-01-15 01:00:00              16.634514              2.224930   \n",
       "2016-01-15 02:00:00              16.208849              2.257889   \n",
       "2016-01-15 03:00:00              16.532835              2.146849   \n",
       "2016-01-15 04:00:00              16.525686              2.055292   \n",
       "\n",
       "                     primary_cleaner.input.sulfate  ...  \\\n",
       "date                                                ...   \n",
       "2016-01-15 00:00:00                     127.092003  ...   \n",
       "2016-01-15 01:00:00                     125.629232  ...   \n",
       "2016-01-15 02:00:00                     123.819808  ...   \n",
       "2016-01-15 03:00:00                     122.270188  ...   \n",
       "2016-01-15 04:00:00                     117.988169  ...   \n",
       "\n",
       "                     secondary_cleaner.state.floatbank4_a_air  \\\n",
       "date                                                            \n",
       "2016-01-15 00:00:00                                 14.016835   \n",
       "2016-01-15 01:00:00                                 13.992281   \n",
       "2016-01-15 02:00:00                                 14.015015   \n",
       "2016-01-15 03:00:00                                 14.036510   \n",
       "2016-01-15 04:00:00                                 14.027298   \n",
       "\n",
       "                     secondary_cleaner.state.floatbank4_a_level  \\\n",
       "date                                                              \n",
       "2016-01-15 00:00:00                                 -502.488007   \n",
       "2016-01-15 01:00:00                                 -505.503262   \n",
       "2016-01-15 02:00:00                                 -502.520901   \n",
       "2016-01-15 03:00:00                                 -500.857308   \n",
       "2016-01-15 04:00:00                                 -499.838632   \n",
       "\n",
       "                     secondary_cleaner.state.floatbank4_b_air  \\\n",
       "date                                                            \n",
       "2016-01-15 00:00:00                                 12.099931   \n",
       "2016-01-15 01:00:00                                 11.950531   \n",
       "2016-01-15 02:00:00                                 11.912783   \n",
       "2016-01-15 03:00:00                                 11.999550   \n",
       "2016-01-15 04:00:00                                 11.953070   \n",
       "\n",
       "                     secondary_cleaner.state.floatbank4_b_level  \\\n",
       "date                                                              \n",
       "2016-01-15 00:00:00                                 -504.715942   \n",
       "2016-01-15 01:00:00                                 -501.331529   \n",
       "2016-01-15 02:00:00                                 -501.133383   \n",
       "2016-01-15 03:00:00                                 -501.193686   \n",
       "2016-01-15 04:00:00                                 -501.053894   \n",
       "\n",
       "                     secondary_cleaner.state.floatbank5_a_air  \\\n",
       "date                                                            \n",
       "2016-01-15 00:00:00                                  9.925633   \n",
       "2016-01-15 01:00:00                                 10.039245   \n",
       "2016-01-15 02:00:00                                 10.070913   \n",
       "2016-01-15 03:00:00                                  9.970366   \n",
       "2016-01-15 04:00:00                                  9.925709   \n",
       "\n",
       "                     secondary_cleaner.state.floatbank5_a_level  \\\n",
       "date                                                              \n",
       "2016-01-15 00:00:00                                 -498.310211   \n",
       "2016-01-15 01:00:00                                 -500.169983   \n",
       "2016-01-15 02:00:00                                 -500.129135   \n",
       "2016-01-15 03:00:00                                 -499.201640   \n",
       "2016-01-15 04:00:00                                 -501.686727   \n",
       "\n",
       "                     secondary_cleaner.state.floatbank5_b_air  \\\n",
       "date                                                            \n",
       "2016-01-15 00:00:00                                  8.079666   \n",
       "2016-01-15 01:00:00                                  7.984757   \n",
       "2016-01-15 02:00:00                                  8.013877   \n",
       "2016-01-15 03:00:00                                  7.977324   \n",
       "2016-01-15 04:00:00                                  7.894242   \n",
       "\n",
       "                     secondary_cleaner.state.floatbank5_b_level  \\\n",
       "date                                                              \n",
       "2016-01-15 00:00:00                                 -500.470978   \n",
       "2016-01-15 01:00:00                                 -500.582168   \n",
       "2016-01-15 02:00:00                                 -500.517572   \n",
       "2016-01-15 03:00:00                                 -500.255908   \n",
       "2016-01-15 04:00:00                                 -500.356035   \n",
       "\n",
       "                     secondary_cleaner.state.floatbank6_a_air  \\\n",
       "date                                                            \n",
       "2016-01-15 00:00:00                                 14.151341   \n",
       "2016-01-15 01:00:00                                 13.998353   \n",
       "2016-01-15 02:00:00                                 14.028663   \n",
       "2016-01-15 03:00:00                                 14.005551   \n",
       "2016-01-15 04:00:00                                 13.996647   \n",
       "\n",
       "                     secondary_cleaner.state.floatbank6_a_level  \n",
       "date                                                             \n",
       "2016-01-15 00:00:00                                 -605.841980  \n",
       "2016-01-15 01:00:00                                 -599.787184  \n",
       "2016-01-15 02:00:00                                 -601.427363  \n",
       "2016-01-15 03:00:00                                 -599.996129  \n",
       "2016-01-15 04:00:00                                 -601.496691  \n",
       "\n",
       "[5 rows x 86 columns]"
      ]
     },
     "execution_count": 6,
     "metadata": {},
     "output_type": "execute_result"
    }
   ],
   "source": [
    "gold_recovery_train.head()"
   ]
  },
  {
   "cell_type": "markdown",
   "metadata": {},
   "source": [
    "Verifica-se que existem dados ausentes em várias colunas. Os mesmos serão preenchidas com o valor obtido no dia anterior."
   ]
  },
  {
   "cell_type": "markdown",
   "metadata": {},
   "source": [
    "<div class=\"alert alert-success\">\n",
    "<strong>Comentário do revisor v1</strong>\n",
    "\n",
    "Excelente trabalho checando a consistência dos dados.\n",
    "\n",
    "Sempre importante para garantir uma análise robusta!\n",
    "</div>\n",
    "\n",
    "\n"
   ]
  },
  {
   "cell_type": "markdown",
   "metadata": {},
   "source": [
    "### Calculo de retirada"
   ]
  },
  {
   "cell_type": "code",
   "execution_count": 7,
   "metadata": {},
   "outputs": [],
   "source": [
    "df_retirada = gold_recovery_train.copy()\n",
    "c = gold_recovery_train['rougher.output.concentrate_au']\n",
    "\n",
    "f = gold_recovery_train['rougher.input.feed_au']\n",
    "\n",
    "t = gold_recovery_train['rougher.output.tail_au']\n"
   ]
  },
  {
   "cell_type": "code",
   "execution_count": 8,
   "metadata": {},
   "outputs": [],
   "source": [
    "def calcula_retirada(c,f,t):\n",
    "    return ((c*(f-t))/(f*(c-t)))*100"
   ]
  },
  {
   "cell_type": "code",
   "execution_count": 9,
   "metadata": {},
   "outputs": [
    {
     "data": {
      "text/plain": [
       "date\n",
       "2016-01-15 00:00:00    87.107763\n",
       "2016-01-15 01:00:00    86.843261\n",
       "2016-01-15 02:00:00    86.842308\n",
       "2016-01-15 03:00:00    87.226430\n",
       "2016-01-15 04:00:00    86.688794\n",
       "2016-01-15 05:00:00    88.156912\n",
       "2016-01-15 06:00:00    88.168065\n",
       "2016-01-15 07:00:00    87.668336\n",
       "2016-01-15 08:00:00    87.035862\n",
       "2016-01-15 09:00:00    87.650868\n",
       "Name: calculo_retirada, dtype: float64"
      ]
     },
     "execution_count": 9,
     "metadata": {},
     "output_type": "execute_result"
    }
   ],
   "source": [
    "df_retirada['calculo_retirada'] = calcula_retirada(c,f,t)\n",
    "df_retirada['calculo_retirada'].head(10)"
   ]
  },
  {
   "cell_type": "code",
   "execution_count": 10,
   "metadata": {},
   "outputs": [
    {
     "data": {
      "text/plain": [
       "9.303415616264301e-15"
      ]
     },
     "execution_count": 10,
     "metadata": {},
     "output_type": "execute_result"
    }
   ],
   "source": [
    "#Calculo de erro\n",
    "(df_retirada['calculo_retirada'] - gold_recovery_train['rougher.output.recovery']).abs().mean()"
   ]
  },
  {
   "cell_type": "markdown",
   "metadata": {},
   "source": [
    "Ao realizar o calculo de retirada e comparar o resultado com a coluna 'rougher.output.recovery' observa-se que o EAM é extremamente baixo."
   ]
  },
  {
   "cell_type": "markdown",
   "metadata": {},
   "source": [
    "<div class=\"alert alert-success\">\n",
    "<strong>Comentário do revisor v1</strong>\n",
    "\n",
    "Maravilha, vamos por a mão na massa!\n",
    "</div>\n",
    "\n",
    "\n"
   ]
  },
  {
   "cell_type": "markdown",
   "metadata": {},
   "source": [
    "### Analise do conjunto teste"
   ]
  },
  {
   "cell_type": "code",
   "execution_count": 11,
   "metadata": {},
   "outputs": [
    {
     "name": "stdout",
     "output_type": "stream",
     "text": [
      "As colunas faltantes no dataset gold_recovery_test são:\n",
      "final.output.concentrate_ag\n",
      "final.output.concentrate_pb\n",
      "final.output.concentrate_sol\n",
      "final.output.concentrate_au\n",
      "final.output.recovery\n",
      "final.output.tail_ag\n",
      "final.output.tail_pb\n",
      "final.output.tail_sol\n",
      "final.output.tail_au\n",
      "primary_cleaner.output.concentrate_ag\n",
      "primary_cleaner.output.concentrate_pb\n",
      "primary_cleaner.output.concentrate_sol\n",
      "primary_cleaner.output.concentrate_au\n",
      "primary_cleaner.output.tail_ag\n",
      "primary_cleaner.output.tail_pb\n",
      "primary_cleaner.output.tail_sol\n",
      "primary_cleaner.output.tail_au\n",
      "rougher.calculation.sulfate_to_au_concentrate\n",
      "rougher.calculation.floatbank10_sulfate_to_au_feed\n",
      "rougher.calculation.floatbank11_sulfate_to_au_feed\n",
      "rougher.calculation.au_pb_ratio\n",
      "rougher.output.concentrate_ag\n",
      "rougher.output.concentrate_pb\n",
      "rougher.output.concentrate_sol\n",
      "rougher.output.concentrate_au\n",
      "rougher.output.recovery\n",
      "rougher.output.tail_ag\n",
      "rougher.output.tail_pb\n",
      "rougher.output.tail_sol\n",
      "rougher.output.tail_au\n",
      "secondary_cleaner.output.tail_ag\n",
      "secondary_cleaner.output.tail_pb\n",
      "secondary_cleaner.output.tail_sol\n",
      "secondary_cleaner.output.tail_au\n"
     ]
    }
   ],
   "source": [
    "l1 = list(gold_recovery_test.columns)\n",
    "l2 = list(gold_recovery_train.columns)\n",
    "\n",
    "res = [x for x in l1 + l2 if x not in l1 or x not in l2]\n",
    "\n",
    "print(\"As colunas faltantes no dataset gold_recovery_test são:\")\n",
    "for x in res:\n",
    "    print(x)"
   ]
  },
  {
   "cell_type": "markdown",
   "metadata": {},
   "source": [
    "### Preenchendo dados ausentes "
   ]
  },
  {
   "cell_type": "markdown",
   "metadata": {},
   "source": [
    "Os valores ausentes serão preenchidos com o valor da medição do dia anterior."
   ]
  },
  {
   "cell_type": "code",
   "execution_count": 12,
   "metadata": {},
   "outputs": [],
   "source": [
    "gold_recovery_train = gold_recovery_train.fillna(method='ffill')\n",
    "gold_recovery_test = gold_recovery_test.fillna(method='ffill')\n",
    "gold_recovery_full = gold_recovery_full.fillna(method='ffill')"
   ]
  },
  {
   "cell_type": "markdown",
   "metadata": {},
   "source": [
    "<div class=\"alert alert-success\">\n",
    "<strong>Comentário do revisor v1</strong>\n",
    "\n",
    "Boa decisão\n",
    "    \n",
    "</div>\n",
    "\n",
    "\n"
   ]
  },
  {
   "cell_type": "markdown",
   "metadata": {},
   "source": [
    "### Analisando Dados"
   ]
  },
  {
   "cell_type": "markdown",
   "metadata": {},
   "source": [
    "#### Concentração de metais"
   ]
  },
  {
   "cell_type": "markdown",
   "metadata": {},
   "source": [
    "##### Concentração de Au"
   ]
  },
  {
   "cell_type": "code",
   "execution_count": 13,
   "metadata": {},
   "outputs": [
    {
     "data": {
      "text/plain": [
       "<AxesSubplot:>"
      ]
     },
     "execution_count": 13,
     "metadata": {},
     "output_type": "execute_result"
    },
    {
     "data": {
      "image/png": "[encoded data removed]",
      "text/plain": [
       "<Figure size 432x288 with 1 Axes>"
      ]
     },
     "metadata": {
      "needs_background": "light"
     },
     "output_type": "display_data"
    }
   ],
   "source": [
    "gold_recovery_train['rougher.input.feed_au'].hist(bins=25, legend=True, alpha = 0.5)\n",
    "gold_recovery_train['rougher.output.concentrate_au'].hist(bins=25, legend=True, alpha = 0.5)\n",
    "gold_recovery_train['primary_cleaner.output.concentrate_au'].hist(bins=25, legend=True, alpha = 0.5)\n",
    "gold_recovery_train['final.output.concentrate_au'].hist(bins=25, legend=True, alpha = 0.5)"
   ]
  },
  {
   "cell_type": "markdown",
   "metadata": {},
   "source": [
    "Observa-se que a concentração de Au aumenta conforme a fase de extração evolui."
   ]
  },
  {
   "cell_type": "markdown",
   "metadata": {},
   "source": [
    "##### Concentração de Ag"
   ]
  },
  {
   "cell_type": "code",
   "execution_count": 14,
   "metadata": {},
   "outputs": [
    {
     "data": {
      "text/plain": [
       "<AxesSubplot:>"
      ]
     },
     "execution_count": 14,
     "metadata": {},
     "output_type": "execute_result"
    },
    {
     "data": {
      "image/png": "[encoded data removed]",
      "text/plain": [
       "<Figure size 432x288 with 1 Axes>"
      ]
     },
     "metadata": {
      "needs_background": "light"
     },
     "output_type": "display_data"
    }
   ],
   "source": [
    "gold_recovery_train['rougher.input.feed_ag'].hist(bins=25, legend=True, alpha = 0.5)\n",
    "gold_recovery_train['rougher.output.concentrate_ag'].hist(bins=25, legend=True, alpha = 0.5)\n",
    "gold_recovery_train['primary_cleaner.output.concentrate_ag'].hist(bins=25, legend=True, alpha = 0.5)\n",
    "gold_recovery_train['final.output.concentrate_ag'].hist(bins=25, legend=True, alpha = 0.5)"
   ]
  },
  {
   "cell_type": "markdown",
   "metadata": {},
   "source": [
    "Observa-se que a concentração de Ag tende a ser maior nas fases iniciais da mineração."
   ]
  },
  {
   "cell_type": "markdown",
   "metadata": {},
   "source": [
    "##### Concentração de Pb"
   ]
  },
  {
   "cell_type": "code",
   "execution_count": 15,
   "metadata": {},
   "outputs": [
    {
     "data": {
      "text/plain": [
       "<AxesSubplot:>"
      ]
     },
     "execution_count": 15,
     "metadata": {},
     "output_type": "execute_result"
    },
    {
     "data": {
      "image/png": "[encoded data removed]",
      "text/plain": [
       "<Figure size 432x288 with 1 Axes>"
      ]
     },
     "metadata": {
      "needs_background": "light"
     },
     "output_type": "display_data"
    }
   ],
   "source": [
    "gold_recovery_train['rougher.input.feed_pb'].hist(bins=25, legend=True, alpha=0.5)\n",
    "gold_recovery_train['rougher.output.concentrate_pb'].hist(bins=25, legend=True, alpha=0.5)\n",
    "gold_recovery_train['primary_cleaner.output.concentrate_pb'].hist(bins=25, legend=True, alpha = 0.5)\n",
    "gold_recovery_train['final.output.concentrate_pb'].hist(bins=25, legend=True, alpha = 0.5)"
   ]
  },
  {
   "cell_type": "markdown",
   "metadata": {},
   "source": [
    "Observa-se que a concentração de Pb tende a ser maior nas fases finais da mineração."
   ]
  },
  {
   "cell_type": "markdown",
   "metadata": {},
   "source": [
    "#### Distribuição de tamanho de partículas de minério"
   ]
  },
  {
   "cell_type": "code",
   "execution_count": 16,
   "metadata": {},
   "outputs": [
    {
     "data": {
      "image/png": "[encoded data removed]",
      "text/plain": [
       "<Figure size 432x288 with 1 Axes>"
      ]
     },
     "metadata": {
      "needs_background": "light"
     },
     "output_type": "display_data"
    }
   ],
   "source": [
    "df = pd.DataFrame({\n",
    "    'x':gold_recovery_train['rougher.input.feed_size'],\n",
    "    'y':gold_recovery_test['rougher.input.feed_size']\n",
    "})\n",
    "ax = df.plot.kde()"
   ]
  },
  {
   "cell_type": "code",
   "execution_count": 17,
   "metadata": {},
   "outputs": [
    {
     "data": {
      "image/png": "[encoded data removed]",
      "text/plain": [
       "<Figure size 432x288 with 1 Axes>"
      ]
     },
     "metadata": {
      "needs_background": "light"
     },
     "output_type": "display_data"
    }
   ],
   "source": [
    "df = pd.DataFrame({\n",
    "    'x':gold_recovery_train['primary_cleaner.input.feed_size'],\n",
    "    'y':gold_recovery_test['primary_cleaner.input.feed_size']\n",
    "})\n",
    "ax = df.plot.kde()"
   ]
  },
  {
   "cell_type": "markdown",
   "metadata": {},
   "source": [
    "Ao analisar a distribuição de partícula de minério no conjunto de treinamento e no conjunto de teste, observa-se, que não existem grande diferenças entre os dois conjuntos."
   ]
  },
  {
   "cell_type": "markdown",
   "metadata": {},
   "source": [
    "<div class=\"alert alert-success\">\n",
    "<strong>Comentário do revisor v1</strong>\n",
    "\n",
    "Perfeito\n",
    "</div>"
   ]
  },
  {
   "cell_type": "markdown",
   "metadata": {},
   "source": [
    "#### Busca por Outliers "
   ]
  },
  {
   "cell_type": "code",
   "execution_count": 18,
   "metadata": {},
   "outputs": [],
   "source": [
    "#Função para remoção de outliers\n",
    "def remove_outlier(df, column):\n",
    "\n",
    "    Q1 = np.percentile(df[column], 25,interpolation = 'midpoint')\n",
    "    Q3 = np.percentile(df[column], 75,interpolation = 'midpoint')\n",
    "    IQR = Q3 - Q1\n",
    " \n",
    "    # Upper bound\n",
    "    upper = np.where(df[column] >= (Q3+1.5*IQR))\n",
    "    # Lower bound\n",
    "    lower = np.where(df[column] <= (Q1-1.5*IQR))\n",
    " \n",
    "    df.drop(upper[0], inplace = True)\n",
    "    df.drop(lower[0], inplace = True)\n",
    "\n",
    "    return df"
   ]
  },
  {
   "cell_type": "markdown",
   "metadata": {},
   "source": [
    "##### Au"
   ]
  },
  {
   "cell_type": "markdown",
   "metadata": {},
   "source": [
    "###### Minério Bruto"
   ]
  },
  {
   "cell_type": "code",
   "execution_count": 19,
   "metadata": {},
   "outputs": [
    {
     "data": {
      "text/plain": [
       "<AxesSubplot:>"
      ]
     },
     "execution_count": 19,
     "metadata": {},
     "output_type": "execute_result"
    },
    {
     "data": {
      "image/png": "[encoded data removed]",
      "text/plain": [
       "<Figure size 432x288 with 1 Axes>"
      ]
     },
     "metadata": {
      "needs_background": "light"
     },
     "output_type": "display_data"
    }
   ],
   "source": [
    "gold_recovery_train['rougher.input.feed_au'].hist(bins=60)"
   ]
  },
  {
   "cell_type": "markdown",
   "metadata": {},
   "source": [
    "###### Concentrado Bruto"
   ]
  },
  {
   "cell_type": "code",
   "execution_count": 20,
   "metadata": {},
   "outputs": [
    {
     "data": {
      "text/plain": [
       "<AxesSubplot:>"
      ]
     },
     "execution_count": 20,
     "metadata": {},
     "output_type": "execute_result"
    },
    {
     "data": {
      "image/png": "[encoded data removed]",
      "text/plain": [
       "<Figure size 432x288 with 1 Axes>"
      ]
     },
     "metadata": {
      "needs_background": "light"
     },
     "output_type": "display_data"
    }
   ],
   "source": [
    "gold_recovery_train['rougher.output.concentrate_au'].hist(bins=60)"
   ]
  },
  {
   "cell_type": "markdown",
   "metadata": {},
   "source": [
    "###### Concentrado Final"
   ]
  },
  {
   "cell_type": "code",
   "execution_count": 21,
   "metadata": {},
   "outputs": [
    {
     "data": {
      "text/plain": [
       "<AxesSubplot:>"
      ]
     },
     "execution_count": 21,
     "metadata": {},
     "output_type": "execute_result"
    },
    {
     "data": {
      "image/png": "[encoded data removed]",
      "text/plain": [
       "<Figure size 432x288 with 1 Axes>"
      ]
     },
     "metadata": {
      "needs_background": "light"
     },
     "output_type": "display_data"
    }
   ],
   "source": [
    "gold_recovery_train['final.output.concentrate_au'].hist(bins=60)"
   ]
  },
  {
   "cell_type": "markdown",
   "metadata": {},
   "source": [
    "##### Ag"
   ]
  },
  {
   "cell_type": "markdown",
   "metadata": {},
   "source": [
    "###### Minério Bruto"
   ]
  },
  {
   "cell_type": "code",
   "execution_count": 22,
   "metadata": {},
   "outputs": [
    {
     "data": {
      "text/plain": [
       "<AxesSubplot:>"
      ]
     },
     "execution_count": 22,
     "metadata": {},
     "output_type": "execute_result"
    },
    {
     "data": {
      "image/png": "[encoded data removed]",
      "text/plain": [
       "<Figure size 432x288 with 1 Axes>"
      ]
     },
     "metadata": {
      "needs_background": "light"
     },
     "output_type": "display_data"
    }
   ],
   "source": [
    "gold_recovery_train['rougher.input.feed_ag'].hist(bins=60)"
   ]
  },
  {
   "cell_type": "markdown",
   "metadata": {},
   "source": [
    "###### Concentrado Bruto"
   ]
  },
  {
   "cell_type": "code",
   "execution_count": 23,
   "metadata": {},
   "outputs": [
    {
     "data": {
      "text/plain": [
       "<AxesSubplot:>"
      ]
     },
     "execution_count": 23,
     "metadata": {},
     "output_type": "execute_result"
    },
    {
     "data": {
      "image/png": "[encoded data removed]",
      "text/plain": [
       "<Figure size 432x288 with 1 Axes>"
      ]
     },
     "metadata": {
      "needs_background": "light"
     },
     "output_type": "display_data"
    }
   ],
   "source": [
    "gold_recovery_train['rougher.output.concentrate_ag'].hist(bins=60)"
   ]
  },
  {
   "cell_type": "markdown",
   "metadata": {},
   "source": [
    "###### Concentrado Final"
   ]
  },
  {
   "cell_type": "code",
   "execution_count": 24,
   "metadata": {},
   "outputs": [
    {
     "data": {
      "text/plain": [
       "<AxesSubplot:>"
      ]
     },
     "execution_count": 24,
     "metadata": {},
     "output_type": "execute_result"
    },
    {
     "data": {
      "image/png": "[encoded data removed]",
      "text/plain": [
       "<Figure size 432x288 with 1 Axes>"
      ]
     },
     "metadata": {
      "needs_background": "light"
     },
     "output_type": "display_data"
    }
   ],
   "source": [
    "gold_recovery_train['final.output.concentrate_ag'].hist(bins=60)"
   ]
  },
  {
   "cell_type": "markdown",
   "metadata": {},
   "source": [
    "##### Pb"
   ]
  },
  {
   "cell_type": "markdown",
   "metadata": {},
   "source": [
    "###### Minério Bruto"
   ]
  },
  {
   "cell_type": "code",
   "execution_count": 25,
   "metadata": {},
   "outputs": [
    {
     "data": {
      "text/plain": [
       "<AxesSubplot:>"
      ]
     },
     "execution_count": 25,
     "metadata": {},
     "output_type": "execute_result"
    },
    {
     "data": {
      "image/png": "[encoded data removed]",
      "text/plain": [
       "<Figure size 432x288 with 1 Axes>"
      ]
     },
     "metadata": {
      "needs_background": "light"
     },
     "output_type": "display_data"
    }
   ],
   "source": [
    "gold_recovery_train['rougher.input.feed_pb'].hist(bins=60)"
   ]
  },
  {
   "cell_type": "markdown",
   "metadata": {},
   "source": [
    "###### Concentrado Bruto"
   ]
  },
  {
   "cell_type": "code",
   "execution_count": 26,
   "metadata": {},
   "outputs": [
    {
     "data": {
      "text/plain": [
       "<AxesSubplot:>"
      ]
     },
     "execution_count": 26,
     "metadata": {},
     "output_type": "execute_result"
    },
    {
     "data": {
      "image/png": "[encoded data removed]",
      "text/plain": [
       "<Figure size 432x288 with 1 Axes>"
      ]
     },
     "metadata": {
      "needs_background": "light"
     },
     "output_type": "display_data"
    }
   ],
   "source": [
    "gold_recovery_train['rougher.output.concentrate_pb'].hist(bins=60)"
   ]
  },
  {
   "cell_type": "markdown",
   "metadata": {},
   "source": [
    "###### Concentrado Final"
   ]
  },
  {
   "cell_type": "code",
   "execution_count": 27,
   "metadata": {},
   "outputs": [
    {
     "data": {
      "text/plain": [
       "<AxesSubplot:>"
      ]
     },
     "execution_count": 27,
     "metadata": {},
     "output_type": "execute_result"
    },
    {
     "data": {
      "image/png": "[encoded data removed]",
      "text/plain": [
       "<Figure size 432x288 with 1 Axes>"
      ]
     },
     "metadata": {
      "needs_background": "light"
     },
     "output_type": "display_data"
    }
   ],
   "source": [
    "gold_recovery_train['final.output.concentrate_pb'].hist(bins=60)"
   ]
  },
  {
   "cell_type": "markdown",
   "metadata": {},
   "source": [
    "Apesar dos dados apresentarem outliers, muitos deles próximos a zero, optou-se por não remove-los uma vez que são valores possiveis de ocorrerem. "
   ]
  },
  {
   "cell_type": "markdown",
   "metadata": {},
   "source": [
    "<div class=\"alert alert-success\">\n",
    "<strong>Comentário do revisor v1</strong>\n",
    "\n",
    "Muito bom!\n",
    "</div>"
   ]
  },
  {
   "cell_type": "markdown",
   "metadata": {},
   "source": [
    "### Contrução de modelo"
   ]
  },
  {
   "cell_type": "markdown",
   "metadata": {},
   "source": [
    "#### Função sMape"
   ]
  },
  {
   "cell_type": "code",
   "execution_count": 28,
   "metadata": {},
   "outputs": [],
   "source": [
    "def smape(y_true, y_pred):\n",
    "    error = (y_true - y_pred).abs()\n",
    "    scale = (y_true.abs () + y_pred.abs()) / 2\n",
    "    return (error / scale).mean()\n",
    "\n",
    "def smape_weighted(y_true, y_pred):\n",
    "    rougher = smape(y_true[0], y_pred[0])\n",
    "    final = smape(y_true[1], y_pred[1])\n",
    "    return 0.25 * rougher + 0.75 * final"
   ]
  },
  {
   "cell_type": "markdown",
   "metadata": {},
   "source": [
    "#### Treinando modelos"
   ]
  },
  {
   "cell_type": "code",
   "execution_count": 29,
   "metadata": {},
   "outputs": [],
   "source": [
    "#Obtendo targets\n",
    "target_test = gold_recovery_full[['rougher.output.concentrate_au','final.output.concentrate_au']].loc[gold_recovery_test.index].reset_index(drop=True)"
   ]
  },
  {
   "cell_type": "code",
   "execution_count": 30,
   "metadata": {},
   "outputs": [],
   "source": [
    "features_train = gold_recovery_train.drop(['rougher.output.concentrate_au','final.output.concentrate_au'], axis=1).reset_index(drop=True)\n",
    "target_train = gold_recovery_train[['rougher.output.concentrate_au','final.output.concentrate_au']].reset_index(drop=True)\n",
    "\n",
    "features_test = gold_recovery_test\n",
    "\n",
    "target_train.columns = [0, 1]\n"
   ]
  },
  {
   "cell_type": "code",
   "execution_count": 31,
   "metadata": {},
   "outputs": [],
   "source": [
    "from sklearn.linear_model import LinearRegression\n",
    "from sklearn.ensemble import RandomForestRegressor\n",
    "from sklearn.model_selection import KFold\n",
    "\n",
    "def score_model(model, cv=4):\n",
    "    scores = []\n",
    "    for subtrain_index, valid_index in KFold(n_splits=cv).split(features_train):\n",
    "        features_subtrain = features_train.loc[subtrain_index].reset_index(drop=True)\n",
    "        target_subtrain = target_train.loc[subtrain_index].reset_index(drop=True)\n",
    "        features_valid = features_train.loc[valid_index].reset_index(drop=True)\n",
    "        target_valid = target_train.loc[valid_index].reset_index(drop=True)\n",
    "        \n",
    "        model.fit(features_subtrain, target_subtrain)\n",
    "        pred_valid = pd.DataFrame(model.predict(features_valid))\n",
    "\n",
    "        scores.append(smape_weighted(target_valid, pred_valid))\n",
    "    return pd.Series(scores).mean()"
   ]
  },
  {
   "cell_type": "markdown",
   "metadata": {},
   "source": [
    "##### Regressão linear"
   ]
  },
  {
   "cell_type": "code",
   "execution_count": 34,
   "metadata": {},
   "outputs": [
    {
     "name": "stdout",
     "output_type": "stream",
     "text": [
      "LR: 28.754086969715566\n"
     ]
    }
   ],
   "source": [
    "model = LinearRegression()\n",
    "lr_score = score_model(model)\n",
    "print(\"LR:\", lr_score*100)"
   ]
  },
  {
   "cell_type": "markdown",
   "metadata": {},
   "source": [
    "<div class=\"alert alert-success\">\n",
    "<strong>Comentário do revisor v1</strong>\n",
    "\n",
    "Os valores aqui não esão multiplicados por 100, mas beleza. Tudo certinho!\n",
    "</div>"
   ]
  },
  {
   "cell_type": "markdown",
   "metadata": {},
   "source": [
    "##### Random Forest"
   ]
  },
  {
   "cell_type": "code",
   "execution_count": 35,
   "metadata": {},
   "outputs": [
    {
     "name": "stdout",
     "output_type": "stream",
     "text": [
      "RF: 16.39043406163884\n"
     ]
    }
   ],
   "source": [
    "model = RandomForestRegressor(n_estimators=60, max_depth= 11, random_state=12345)\n",
    "rf_score = score_model(model)\n",
    "print(\"RF:\", rf_score*100)"
   ]
  },
  {
   "cell_type": "markdown",
   "metadata": {},
   "source": [
    "#### Aplicando o modelo ao conjunto de teste"
   ]
  },
  {
   "cell_type": "code",
   "execution_count": 36,
   "metadata": {},
   "outputs": [],
   "source": [
    "model = LinearRegression()\n",
    "model.fit(features_test, target_test)\n",
    "pred_valid = pd.DataFrame(model.predict(features_test))"
   ]
  },
  {
   "cell_type": "code",
   "execution_count": 37,
   "metadata": {},
   "outputs": [
    {
     "data": {
      "text/html": [
       "<div>\n",
       "<style scoped>\n",
       "    .dataframe tbody tr th:only-of-type {\n",
       "        vertical-align: middle;\n",
       "    }\n",
       "\n",
       "    .dataframe tbody tr th {\n",
       "        vertical-align: top;\n",
       "    }\n",
       "\n",
       "    .dataframe thead th {\n",
       "        text-align: right;\n",
       "    }\n",
       "</style>\n",
       "<table border=\"1\" class=\"dataframe\">\n",
       "  <thead>\n",
       "    <tr style=\"text-align: right;\">\n",
       "      <th></th>\n",
       "      <th>0</th>\n",
       "      <th>1</th>\n",
       "    </tr>\n",
       "  </thead>\n",
       "  <tbody>\n",
       "    <tr>\n",
       "      <th>0</th>\n",
       "      <td>20.700872</td>\n",
       "      <td>55.405119</td>\n",
       "    </tr>\n",
       "    <tr>\n",
       "      <th>1</th>\n",
       "      <td>18.277767</td>\n",
       "      <td>53.221892</td>\n",
       "    </tr>\n",
       "    <tr>\n",
       "      <th>2</th>\n",
       "      <td>19.850329</td>\n",
       "      <td>53.858859</td>\n",
       "    </tr>\n",
       "    <tr>\n",
       "      <th>3</th>\n",
       "      <td>20.245672</td>\n",
       "      <td>52.976794</td>\n",
       "    </tr>\n",
       "    <tr>\n",
       "      <th>4</th>\n",
       "      <td>20.183080</td>\n",
       "      <td>52.374808</td>\n",
       "    </tr>\n",
       "    <tr>\n",
       "      <th>5</th>\n",
       "      <td>20.044061</td>\n",
       "      <td>51.142386</td>\n",
       "    </tr>\n",
       "    <tr>\n",
       "      <th>6</th>\n",
       "      <td>20.678599</td>\n",
       "      <td>50.663729</td>\n",
       "    </tr>\n",
       "    <tr>\n",
       "      <th>7</th>\n",
       "      <td>21.389990</td>\n",
       "      <td>52.166845</td>\n",
       "    </tr>\n",
       "    <tr>\n",
       "      <th>8</th>\n",
       "      <td>21.184620</td>\n",
       "      <td>52.094930</td>\n",
       "    </tr>\n",
       "    <tr>\n",
       "      <th>9</th>\n",
       "      <td>20.474920</td>\n",
       "      <td>50.594392</td>\n",
       "    </tr>\n",
       "  </tbody>\n",
       "</table>\n",
       "</div>"
      ],
      "text/plain": [
       "           0          1\n",
       "0  20.700872  55.405119\n",
       "1  18.277767  53.221892\n",
       "2  19.850329  53.858859\n",
       "3  20.245672  52.976794\n",
       "4  20.183080  52.374808\n",
       "5  20.044061  51.142386\n",
       "6  20.678599  50.663729\n",
       "7  21.389990  52.166845\n",
       "8  21.184620  52.094930\n",
       "9  20.474920  50.594392"
      ]
     },
     "execution_count": 37,
     "metadata": {},
     "output_type": "execute_result"
    }
   ],
   "source": [
    "pred_valid.head(10)"
   ]
  },
  {
   "cell_type": "markdown",
   "metadata": {},
   "source": [
    "<div class=\"alert alert-danger\">\n",
    "<strong>Comentário do revisor v1</strong>\n",
    "\n",
    "Tudo ótimo até aqui!\n",
    "\n",
    "Estou ansioso pra ver a sua conclusão sobre os modelos e resultados e então teremos finalizados por aqui com um resultado bem legal!\n",
    "\n",
    "Até breve!\n",
    "</div>"
   ]
  },
  {
   "cell_type": "markdown",
   "metadata": {},
   "source": [
    "### Conclusão"
   ]
  },
  {
   "cell_type": "markdown",
   "metadata": {},
   "source": [
    "Após realizar a análise de todos os dados, foi aplicado aos dados de teste o modelo de Regressão Linear e de Floresta Aleatória.\n",
    "\n",
    "O modelo de Regressão Linear foi o que apresentou um melhor resultado tendo como base de comparação a fórmula sMape, 28,75%, contra , do modelo de Floresta Aleatória. \n",
    "\n",
    "Com isso o mesmo foi aplicado na tabela de teste tendo como resultado os dados apresentados no subitem 6.3\n",
    "\n"
   ]
  },
  {
   "cell_type": "markdown",
   "metadata": {},
   "source": [
    "<div class=\"alert alert-success\">\n",
    "<strong>Comentário do revisor v2</strong>\n",
    "\n",
    "Excelente trabalho! Fiquei muito impressinado.\n",
    "\n",
    "Parabéns pela aprovação.\n",
    "</div>"
   ]
  },
  {
   "cell_type": "code",
   "execution_count": null,
   "metadata": {},
   "outputs": [],
   "source": []
  }
 ],
 "metadata": {
  "kernelspec": {
   "display_name": "Python 3 (ipykernel)",
   "language": "python",
   "name": "python3"
  },
  "language_info": {
   "codemirror_mode": {
    "name": "ipython",
    "version": 3
   },
   "file_extension": ".py",
   "mimetype": "text/x-python",
   "name": "python",
   "nbconvert_exporter": "python",
   "pygments_lexer": "ipython3",
   "version": "3.9.5"
  },
  "toc": {
   "base_numbering": 1,
   "nav_menu": {},
   "number_sections": true,
   "sideBar": true,
   "skip_h1_title": true,
   "title_cell": "Table of Contents",
   "title_sidebar": "Contents",
   "toc_cell": false,
   "toc_position": {},
   "toc_section_display": true,
   "toc_window_display": true
  }
 },
 "nbformat": 4,
 "nbformat_minor": 2
}
